{
  "nbformat": 4,
  "nbformat_minor": 0,
  "metadata": {
    "colab": {
      "name": "Major Project - Sentiment Analysis.ipynb",
      "provenance": [],
      "include_colab_link": true
    },
    "kernelspec": {
      "name": "python3",
      "display_name": "Python 3"
    },
    "language_info": {
      "name": "python"
    }
  },
  "cells": [
    {
      "cell_type": "markdown",
      "metadata": {
        "id": "view-in-github",
        "colab_type": "text"
      },
      "source": [
        "<a href=\"https://colab.research.google.com/github/pavithran1-anime/major-project/blob/main/Major_Project_Sentiment_Analysis.ipynb\" target=\"_parent\"><img src=\"https://colab.research.google.com/assets/colab-badge.svg\" alt=\"Open In Colab\"/></a>"
      ]
    },
    {
      "cell_type": "markdown",
      "metadata": {
        "id": "xZs7Ju8L9pgG"
      },
      "source": [
        "# **MAJOR PROJECT - SENTIMENT ANALYSIS OF IMDB MOVIE REVIEWS**"
      ]
    },
    {
      "cell_type": "markdown",
      "metadata": {
        "id": "cX3p_l95zpIr"
      },
      "source": [
        "## **Gathering Data**\n",
        "\n",
        "*   50,000 IMDB movie reviews for sentiment analysis\n",
        "*   Kaggle Dataset\n",
        "\n",
        "\n"
      ]
    },
    {
      "cell_type": "code",
      "metadata": {
        "colab": {
          "base_uri": "https://localhost:8080/",
          "height": 195
        },
        "id": "y8NzmyCnlUXN",
        "outputId": "8ef7e76a-cb06-422c-ef65-4044f5e83898"
      },
      "source": [
        "import pandas as pd\n",
        "\n",
        "df = pd.read_table('/content/drive/MyDrive/datasets/major project dataset/labeledTrainData.tsv')\n",
        "df.head()"
      ],
      "execution_count": null,
      "outputs": [
        {
          "output_type": "execute_result",
          "data": {
            "text/html": [
              "<div>\n",
              "<style scoped>\n",
              "    .dataframe tbody tr th:only-of-type {\n",
              "        vertical-align: middle;\n",
              "    }\n",
              "\n",
              "    .dataframe tbody tr th {\n",
              "        vertical-align: top;\n",
              "    }\n",
              "\n",
              "    .dataframe thead th {\n",
              "        text-align: right;\n",
              "    }\n",
              "</style>\n",
              "<table border=\"1\" class=\"dataframe\">\n",
              "  <thead>\n",
              "    <tr style=\"text-align: right;\">\n",
              "      <th></th>\n",
              "      <th>id</th>\n",
              "      <th>sentiment</th>\n",
              "      <th>review</th>\n",
              "    </tr>\n",
              "  </thead>\n",
              "  <tbody>\n",
              "    <tr>\n",
              "      <th>0</th>\n",
              "      <td>5814_8</td>\n",
              "      <td>1</td>\n",
              "      <td>With all this stuff going down at the moment w...</td>\n",
              "    </tr>\n",
              "    <tr>\n",
              "      <th>1</th>\n",
              "      <td>2381_9</td>\n",
              "      <td>1</td>\n",
              "      <td>\\The Classic War of the Worlds\\\" by Timothy Hi...</td>\n",
              "    </tr>\n",
              "    <tr>\n",
              "      <th>2</th>\n",
              "      <td>7759_3</td>\n",
              "      <td>0</td>\n",
              "      <td>The film starts with a manager (Nicholas Bell)...</td>\n",
              "    </tr>\n",
              "    <tr>\n",
              "      <th>3</th>\n",
              "      <td>3630_4</td>\n",
              "      <td>0</td>\n",
              "      <td>It must be assumed that those who praised this...</td>\n",
              "    </tr>\n",
              "    <tr>\n",
              "      <th>4</th>\n",
              "      <td>9495_8</td>\n",
              "      <td>1</td>\n",
              "      <td>Superbly trashy and wondrously unpretentious 8...</td>\n",
              "    </tr>\n",
              "  </tbody>\n",
              "</table>\n",
              "</div>"
            ],
            "text/plain": [
              "       id  sentiment                                             review\n",
              "0  5814_8          1  With all this stuff going down at the moment w...\n",
              "1  2381_9          1  \\The Classic War of the Worlds\\\" by Timothy Hi...\n",
              "2  7759_3          0  The film starts with a manager (Nicholas Bell)...\n",
              "3  3630_4          0  It must be assumed that those who praised this...\n",
              "4  9495_8          1  Superbly trashy and wondrously unpretentious 8..."
            ]
          },
          "metadata": {
            "tags": []
          },
          "execution_count": 3
        }
      ]
    },
    {
      "cell_type": "code",
      "metadata": {
        "colab": {
          "base_uri": "https://localhost:8080/"
        },
        "id": "NbaGN_qhqPW4",
        "outputId": "c49fc5bf-b411-4d1b-b4d2-ac01ef39e265"
      },
      "source": [
        "df['sentiment'].value_counts()"
      ],
      "execution_count": null,
      "outputs": [
        {
          "output_type": "execute_result",
          "data": {
            "text/plain": [
              "1    12500\n",
              "0    12500\n",
              "Name: sentiment, dtype: int64"
            ]
          },
          "metadata": {
            "tags": []
          },
          "execution_count": 4
        }
      ]
    },
    {
      "cell_type": "markdown",
      "metadata": {
        "id": "vQSCTPjn7Tal"
      },
      "source": [
        "## **2. Preprocessing - Cleaning of Data**\n",
        "\n"
      ]
    },
    {
      "cell_type": "code",
      "metadata": {
        "colab": {
          "base_uri": "https://localhost:8080/",
          "height": 402
        },
        "id": "i3gWkP9t0T_Q",
        "outputId": "279b75e1-62e8-4e66-a033-fa2c3cafd0ee"
      },
      "source": [
        "import re\n",
        "def cleanTxt(text):\n",
        "  text = re.sub(r'@[A-Za-z0-9]+', '', text) #removes @mentions\n",
        "  text = re.sub(r'#', '',text) #removing the # symbol\n",
        "  text = re.sub(r'RT[\\s]+','',text) #removing RT\n",
        "  text = re.sub('https?:\\/\\/\\S+','',text) #removing hyperlink\n",
        "  text = re.sub(r'[^\\w\\s]','', text) #removing punctuations\n",
        "  text = re.sub(r'[0-9]', '', text) #removing numbers\n",
        "\n",
        "  return text\n",
        "\n",
        "#clean the tweets\n",
        "df['review'] = df['review'].apply(cleanTxt)\n",
        "\n",
        "#show the cleaned tweets\n",
        "df"
      ],
      "execution_count": null,
      "outputs": [
        {
          "output_type": "execute_result",
          "data": {
            "text/html": [
              "<div>\n",
              "<style scoped>\n",
              "    .dataframe tbody tr th:only-of-type {\n",
              "        vertical-align: middle;\n",
              "    }\n",
              "\n",
              "    .dataframe tbody tr th {\n",
              "        vertical-align: top;\n",
              "    }\n",
              "\n",
              "    .dataframe thead th {\n",
              "        text-align: right;\n",
              "    }\n",
              "</style>\n",
              "<table border=\"1\" class=\"dataframe\">\n",
              "  <thead>\n",
              "    <tr style=\"text-align: right;\">\n",
              "      <th></th>\n",
              "      <th>id</th>\n",
              "      <th>sentiment</th>\n",
              "      <th>review</th>\n",
              "    </tr>\n",
              "  </thead>\n",
              "  <tbody>\n",
              "    <tr>\n",
              "      <th>0</th>\n",
              "      <td>5814_8</td>\n",
              "      <td>1</td>\n",
              "      <td>With all this stuff going down at the moment w...</td>\n",
              "    </tr>\n",
              "    <tr>\n",
              "      <th>1</th>\n",
              "      <td>2381_9</td>\n",
              "      <td>1</td>\n",
              "      <td>The Classic War of the Worlds by Timothy Hines...</td>\n",
              "    </tr>\n",
              "    <tr>\n",
              "      <th>2</th>\n",
              "      <td>7759_3</td>\n",
              "      <td>0</td>\n",
              "      <td>The film starts with a manager Nicholas Bell g...</td>\n",
              "    </tr>\n",
              "    <tr>\n",
              "      <th>3</th>\n",
              "      <td>3630_4</td>\n",
              "      <td>0</td>\n",
              "      <td>It must be assumed that those who praised this...</td>\n",
              "    </tr>\n",
              "    <tr>\n",
              "      <th>4</th>\n",
              "      <td>9495_8</td>\n",
              "      <td>1</td>\n",
              "      <td>Superbly trashy and wondrously unpretentious s...</td>\n",
              "    </tr>\n",
              "    <tr>\n",
              "      <th>...</th>\n",
              "      <td>...</td>\n",
              "      <td>...</td>\n",
              "      <td>...</td>\n",
              "    </tr>\n",
              "    <tr>\n",
              "      <th>24995</th>\n",
              "      <td>3453_3</td>\n",
              "      <td>0</td>\n",
              "      <td>It seems like more consideration has gone into...</td>\n",
              "    </tr>\n",
              "    <tr>\n",
              "      <th>24996</th>\n",
              "      <td>5064_1</td>\n",
              "      <td>0</td>\n",
              "      <td>I dont believe they made this film Completely ...</td>\n",
              "    </tr>\n",
              "    <tr>\n",
              "      <th>24997</th>\n",
              "      <td>10905_3</td>\n",
              "      <td>0</td>\n",
              "      <td>Guy is a loser Cant get girls needs to build u...</td>\n",
              "    </tr>\n",
              "    <tr>\n",
              "      <th>24998</th>\n",
              "      <td>10194_3</td>\n",
              "      <td>0</td>\n",
              "      <td>This  minute documentary Buñuel made in the ea...</td>\n",
              "    </tr>\n",
              "    <tr>\n",
              "      <th>24999</th>\n",
              "      <td>8478_8</td>\n",
              "      <td>1</td>\n",
              "      <td>I saw this movie as a child and it broke my he...</td>\n",
              "    </tr>\n",
              "  </tbody>\n",
              "</table>\n",
              "<p>25000 rows × 3 columns</p>\n",
              "</div>"
            ],
            "text/plain": [
              "            id  sentiment                                             review\n",
              "0       5814_8          1  With all this stuff going down at the moment w...\n",
              "1       2381_9          1  The Classic War of the Worlds by Timothy Hines...\n",
              "2       7759_3          0  The film starts with a manager Nicholas Bell g...\n",
              "3       3630_4          0  It must be assumed that those who praised this...\n",
              "4       9495_8          1  Superbly trashy and wondrously unpretentious s...\n",
              "...        ...        ...                                                ...\n",
              "24995   3453_3          0  It seems like more consideration has gone into...\n",
              "24996   5064_1          0  I dont believe they made this film Completely ...\n",
              "24997  10905_3          0  Guy is a loser Cant get girls needs to build u...\n",
              "24998  10194_3          0  This  minute documentary Buñuel made in the ea...\n",
              "24999   8478_8          1  I saw this movie as a child and it broke my he...\n",
              "\n",
              "[25000 rows x 3 columns]"
            ]
          },
          "metadata": {
            "tags": []
          },
          "execution_count": 5
        }
      ]
    },
    {
      "cell_type": "code",
      "metadata": {
        "id": "D9NVpwIWqZYY"
      },
      "source": [
        "#assigning x and y\n",
        "\n",
        "x = df.iloc[:,2]\n",
        "y = df.iloc[:,1]"
      ],
      "execution_count": null,
      "outputs": []
    },
    {
      "cell_type": "code",
      "metadata": {
        "id": "nVfbNVZIqnRI"
      },
      "source": [
        "from sklearn.model_selection import train_test_split\n",
        "x_train, x_test, y_train, y_test = train_test_split(x,y, test_size = 0.3, random_state = 0, stratify = y)"
      ],
      "execution_count": null,
      "outputs": []
    },
    {
      "cell_type": "code",
      "metadata": {
        "colab": {
          "base_uri": "https://localhost:8080/"
        },
        "id": "-jZY94Mnqryb",
        "outputId": "7597c6ec-a9c6-43c6-e916-13bfac60514e"
      },
      "source": [
        "print(x_train.shape)\n",
        "print(x_test.shape)"
      ],
      "execution_count": null,
      "outputs": [
        {
          "output_type": "stream",
          "text": [
            "(17500,)\n",
            "(7500,)\n"
          ],
          "name": "stdout"
        }
      ]
    },
    {
      "cell_type": "code",
      "metadata": {
        "colab": {
          "base_uri": "https://localhost:8080/"
        },
        "id": "vdiQqKzEqw_C",
        "outputId": "2c694d1a-eb56-4d14-8a32-c6022e4fcddc"
      },
      "source": [
        "import numpy as np\n",
        "np.unique(y_train, return_counts=True)"
      ],
      "execution_count": null,
      "outputs": [
        {
          "output_type": "execute_result",
          "data": {
            "text/plain": [
              "(array([0, 1]), array([8750, 8750]))"
            ]
          },
          "metadata": {
            "tags": []
          },
          "execution_count": 9
        }
      ]
    },
    {
      "cell_type": "code",
      "metadata": {
        "colab": {
          "base_uri": "https://localhost:8080/"
        },
        "id": "DMKGVql5q1BO",
        "outputId": "daf6cfcf-2668-420b-c310-bc382c52f5de"
      },
      "source": [
        "np.unique(y_test, return_counts=True)"
      ],
      "execution_count": null,
      "outputs": [
        {
          "output_type": "execute_result",
          "data": {
            "text/plain": [
              "(array([0, 1]), array([3750, 3750]))"
            ]
          },
          "metadata": {
            "tags": []
          },
          "execution_count": 10
        }
      ]
    },
    {
      "cell_type": "markdown",
      "metadata": {
        "id": "QuZ03OwB7rbm"
      },
      "source": [
        "## **Vectorization and Creation of Model**\n",
        "\n",
        "*   TFIDF Vectorizer\n",
        "\n",
        "*   Logistic Regression for classification algorithm\n",
        "\n",
        "\n"
      ]
    },
    {
      "cell_type": "code",
      "metadata": {
        "id": "Ab3VBazBHfA9"
      },
      "source": [
        "from sklearn.linear_model import LogisticRegression\n",
        "from sklearn.pipeline import Pipeline\n",
        "from sklearn.feature_extraction.text import TfidfVectorizer\n",
        "\n",
        "text_model = Pipeline([('Tfidf',TfidfVectorizer()),('model',LogisticRegression())])"
      ],
      "execution_count": null,
      "outputs": []
    },
    {
      "cell_type": "code",
      "metadata": {
        "colab": {
          "base_uri": "https://localhost:8080/"
        },
        "id": "KDKAFI32Hqio",
        "outputId": "0abb17dd-d32e-4786-8c5f-1949461c48ec"
      },
      "source": [
        "text_model.fit(x_train, y_train)"
      ],
      "execution_count": null,
      "outputs": [
        {
          "output_type": "execute_result",
          "data": {
            "text/plain": [
              "Pipeline(memory=None,\n",
              "         steps=[('Tfidf',\n",
              "                 TfidfVectorizer(analyzer='word', binary=False,\n",
              "                                 decode_error='strict',\n",
              "                                 dtype=<class 'numpy.float64'>,\n",
              "                                 encoding='utf-8', input='content',\n",
              "                                 lowercase=True, max_df=1.0, max_features=None,\n",
              "                                 min_df=1, ngram_range=(1, 1), norm='l2',\n",
              "                                 preprocessor=None, smooth_idf=True,\n",
              "                                 stop_words=None, strip_accents=None,\n",
              "                                 sublinear_tf=False,\n",
              "                                 token_pattern='(?u)\\\\b\\\\w\\\\w+\\\\b',\n",
              "                                 tokenizer=None, use_idf=True,\n",
              "                                 vocabulary=None)),\n",
              "                ('model',\n",
              "                 LogisticRegression(C=1.0, class_weight=None, dual=False,\n",
              "                                    fit_intercept=True, intercept_scaling=1,\n",
              "                                    l1_ratio=None, max_iter=100,\n",
              "                                    multi_class='auto', n_jobs=None,\n",
              "                                    penalty='l2', random_state=None,\n",
              "                                    solver='lbfgs', tol=0.0001, verbose=0,\n",
              "                                    warm_start=False))],\n",
              "         verbose=False)"
            ]
          },
          "metadata": {
            "tags": []
          },
          "execution_count": 12
        }
      ]
    },
    {
      "cell_type": "code",
      "metadata": {
        "id": "fV4v8WSurD9q",
        "colab": {
          "base_uri": "https://localhost:8080/"
        },
        "outputId": "eff9c431-2881-42c6-e970-f066f67f0426"
      },
      "source": [
        "y_pred = text_model.predict(x_test)\n",
        "y_pred"
      ],
      "execution_count": null,
      "outputs": [
        {
          "output_type": "execute_result",
          "data": {
            "text/plain": [
              "array([0, 1, 0, ..., 0, 0, 1])"
            ]
          },
          "metadata": {
            "tags": []
          },
          "execution_count": 13
        }
      ]
    },
    {
      "cell_type": "code",
      "metadata": {
        "colab": {
          "base_uri": "https://localhost:8080/"
        },
        "id": "BsDsiSHQMgPw",
        "outputId": "80ec8b6e-072a-4335-844f-3eab4fd5b7e6"
      },
      "source": [
        "positive = df[df['sentiment']==1]\n",
        "positive.iloc[16].values"
      ],
      "execution_count": null,
      "outputs": [
        {
          "output_type": "execute_result",
          "data": {
            "text/plain": [
              "array(['4005_10', 1,\n",
              "       'Although at one point I thought this was going to turn into The Graduate I have to say that The Mother does an excellent job of explaining the sexual desires of an older womanbr br Im so glad this is a British film because Hollywood never would have done it and even if they had they would have ruined it by not taking the time to develop the charactersbr br The story is revealed slowly and realistically The acting is superb the characters are believably flawed and the dialogue is sensitive I tried many times to predict what was going to happen and I was always wrong so I was very intrigued by the storybr br I highly recommend this movie And I must confess Ill forever look at my mom in a different light'],\n",
              "      dtype=object)"
            ]
          },
          "metadata": {
            "tags": []
          },
          "execution_count": 14
        }
      ]
    },
    {
      "cell_type": "markdown",
      "metadata": {
        "id": "U3CGpGLh8dvD"
      },
      "source": [
        "## **Evaluation**\n",
        "\n",
        "*   Accuracy Score\n",
        "*   Confusion Matrix\n",
        "\n",
        "*   Classification Report\n",
        "\n",
        "\n",
        "\n"
      ]
    },
    {
      "cell_type": "code",
      "metadata": {
        "id": "qLP6LmufrTy7"
      },
      "source": [
        "# Evaluation\n",
        "from sklearn.metrics import accuracy_score,classification_report,confusion_matrix"
      ],
      "execution_count": null,
      "outputs": []
    },
    {
      "cell_type": "code",
      "metadata": {
        "id": "I3r-23C4rYen",
        "colab": {
          "base_uri": "https://localhost:8080/"
        },
        "outputId": "ef675200-8e55-442c-c5e2-30ab8345077c"
      },
      "source": [
        "accuracy_score(y_pred,y_test)*100"
      ],
      "execution_count": null,
      "outputs": [
        {
          "output_type": "execute_result",
          "data": {
            "text/plain": [
              "88.49333333333334"
            ]
          },
          "metadata": {
            "tags": []
          },
          "execution_count": 16
        }
      ]
    },
    {
      "cell_type": "code",
      "metadata": {
        "id": "Xkr7jaEYraRE",
        "colab": {
          "base_uri": "https://localhost:8080/"
        },
        "outputId": "2f813c44-4e58-499b-df85-1f6cce3805e4"
      },
      "source": [
        "confusion_matrix(y_pred,y_test)"
      ],
      "execution_count": null,
      "outputs": [
        {
          "output_type": "execute_result",
          "data": {
            "text/plain": [
              "array([[3284,  397],\n",
              "       [ 466, 3353]])"
            ]
          },
          "metadata": {
            "tags": []
          },
          "execution_count": 17
        }
      ]
    },
    {
      "cell_type": "code",
      "metadata": {
        "id": "H-Vj7b_rrcTd",
        "colab": {
          "base_uri": "https://localhost:8080/"
        },
        "outputId": "be925830-84d6-4d57-d2e1-5e1a3db197f6"
      },
      "source": [
        "print(classification_report(y_pred,y_test))"
      ],
      "execution_count": null,
      "outputs": [
        {
          "output_type": "stream",
          "text": [
            "              precision    recall  f1-score   support\n",
            "\n",
            "           0       0.88      0.89      0.88      3681\n",
            "           1       0.89      0.88      0.89      3819\n",
            "\n",
            "    accuracy                           0.88      7500\n",
            "   macro avg       0.88      0.89      0.88      7500\n",
            "weighted avg       0.89      0.88      0.88      7500\n",
            "\n"
          ],
          "name": "stdout"
        }
      ]
    },
    {
      "cell_type": "markdown",
      "metadata": {
        "id": "nkoG1ii489cT"
      },
      "source": [
        "## **Creation of Web App using Streamlit**"
      ]
    },
    {
      "cell_type": "code",
      "metadata": {
        "id": "t-m7sXCdrfBi",
        "colab": {
          "base_uri": "https://localhost:8080/"
        },
        "outputId": "fa5658a0-5719-4529-9cf8-7de5ef9a361e"
      },
      "source": [
        "# For saving the model in ML, use Pickle, Joblib\n",
        "import joblib\n",
        "joblib.dump(text_model,'sentiment_analysis')"
      ],
      "execution_count": null,
      "outputs": [
        {
          "output_type": "execute_result",
          "data": {
            "text/plain": [
              "['sentiment_analysis']"
            ]
          },
          "metadata": {
            "tags": []
          },
          "execution_count": 19
        }
      ]
    },
    {
      "cell_type": "code",
      "metadata": {
        "id": "42_qOadarw_o",
        "colab": {
          "base_uri": "https://localhost:8080/"
        },
        "outputId": "b3edff8d-de23-427b-8d56-dddb01f93931"
      },
      "source": [
        "!pip install -q --upgrade ipython\n",
        "!pip install -q --upgrade ipykernel"
      ],
      "execution_count": null,
      "outputs": [
        {
          "output_type": "stream",
          "text": [
            "\u001b[?25l\r\u001b[K     |▍                               | 10kB 21.8MB/s eta 0:00:01\r\u001b[K     |▉                               | 20kB 28.0MB/s eta 0:00:01\r\u001b[K     |█▎                              | 30kB 31.4MB/s eta 0:00:01\r\u001b[K     |█▊                              | 40kB 24.7MB/s eta 0:00:01\r\u001b[K     |██                              | 51kB 16.8MB/s eta 0:00:01\r\u001b[K     |██▌                             | 61kB 15.6MB/s eta 0:00:01\r\u001b[K     |███                             | 71kB 14.9MB/s eta 0:00:01\r\u001b[K     |███▍                            | 81kB 15.0MB/s eta 0:00:01\r\u001b[K     |███▊                            | 92kB 14.8MB/s eta 0:00:01\r\u001b[K     |████▏                           | 102kB 14.3MB/s eta 0:00:01\r\u001b[K     |████▋                           | 112kB 14.3MB/s eta 0:00:01\r\u001b[K     |█████                           | 122kB 14.3MB/s eta 0:00:01\r\u001b[K     |█████▍                          | 133kB 14.3MB/s eta 0:00:01\r\u001b[K     |█████▉                          | 143kB 14.3MB/s eta 0:00:01\r\u001b[K     |██████▎                         | 153kB 14.3MB/s eta 0:00:01\r\u001b[K     |██████▊                         | 163kB 14.3MB/s eta 0:00:01\r\u001b[K     |███████                         | 174kB 14.3MB/s eta 0:00:01\r\u001b[K     |███████▌                        | 184kB 14.3MB/s eta 0:00:01\r\u001b[K     |████████                        | 194kB 14.3MB/s eta 0:00:01\r\u001b[K     |████████▍                       | 204kB 14.3MB/s eta 0:00:01\r\u001b[K     |████████▊                       | 215kB 14.3MB/s eta 0:00:01\r\u001b[K     |█████████▏                      | 225kB 14.3MB/s eta 0:00:01\r\u001b[K     |█████████▋                      | 235kB 14.3MB/s eta 0:00:01\r\u001b[K     |██████████                      | 245kB 14.3MB/s eta 0:00:01\r\u001b[K     |██████████▍                     | 256kB 14.3MB/s eta 0:00:01\r\u001b[K     |██████████▉                     | 266kB 14.3MB/s eta 0:00:01\r\u001b[K     |███████████▎                    | 276kB 14.3MB/s eta 0:00:01\r\u001b[K     |███████████▊                    | 286kB 14.3MB/s eta 0:00:01\r\u001b[K     |████████████                    | 296kB 14.3MB/s eta 0:00:01\r\u001b[K     |████████████▌                   | 307kB 14.3MB/s eta 0:00:01\r\u001b[K     |█████████████                   | 317kB 14.3MB/s eta 0:00:01\r\u001b[K     |█████████████▍                  | 327kB 14.3MB/s eta 0:00:01\r\u001b[K     |█████████████▊                  | 337kB 14.3MB/s eta 0:00:01\r\u001b[K     |██████████████▏                 | 348kB 14.3MB/s eta 0:00:01\r\u001b[K     |██████████████▋                 | 358kB 14.3MB/s eta 0:00:01\r\u001b[K     |███████████████                 | 368kB 14.3MB/s eta 0:00:01\r\u001b[K     |███████████████▍                | 378kB 14.3MB/s eta 0:00:01\r\u001b[K     |███████████████▉                | 389kB 14.3MB/s eta 0:00:01\r\u001b[K     |████████████████▎               | 399kB 14.3MB/s eta 0:00:01\r\u001b[K     |████████████████▊               | 409kB 14.3MB/s eta 0:00:01\r\u001b[K     |█████████████████▏              | 419kB 14.3MB/s eta 0:00:01\r\u001b[K     |█████████████████▌              | 430kB 14.3MB/s eta 0:00:01\r\u001b[K     |██████████████████              | 440kB 14.3MB/s eta 0:00:01\r\u001b[K     |██████████████████▍             | 450kB 14.3MB/s eta 0:00:01\r\u001b[K     |██████████████████▉             | 460kB 14.3MB/s eta 0:00:01\r\u001b[K     |███████████████████▏            | 471kB 14.3MB/s eta 0:00:01\r\u001b[K     |███████████████████▋            | 481kB 14.3MB/s eta 0:00:01\r\u001b[K     |████████████████████            | 491kB 14.3MB/s eta 0:00:01\r\u001b[K     |████████████████████▌           | 501kB 14.3MB/s eta 0:00:01\r\u001b[K     |████████████████████▉           | 512kB 14.3MB/s eta 0:00:01\r\u001b[K     |█████████████████████▎          | 522kB 14.3MB/s eta 0:00:01\r\u001b[K     |█████████████████████▊          | 532kB 14.3MB/s eta 0:00:01\r\u001b[K     |██████████████████████▏         | 542kB 14.3MB/s eta 0:00:01\r\u001b[K     |██████████████████████▌         | 552kB 14.3MB/s eta 0:00:01\r\u001b[K     |███████████████████████         | 563kB 14.3MB/s eta 0:00:01\r\u001b[K     |███████████████████████▍        | 573kB 14.3MB/s eta 0:00:01\r\u001b[K     |███████████████████████▉        | 583kB 14.3MB/s eta 0:00:01\r\u001b[K     |████████████████████████▏       | 593kB 14.3MB/s eta 0:00:01\r\u001b[K     |████████████████████████▋       | 604kB 14.3MB/s eta 0:00:01\r\u001b[K     |█████████████████████████       | 614kB 14.3MB/s eta 0:00:01\r\u001b[K     |█████████████████████████▌      | 624kB 14.3MB/s eta 0:00:01\r\u001b[K     |█████████████████████████▉      | 634kB 14.3MB/s eta 0:00:01\r\u001b[K     |██████████████████████████▎     | 645kB 14.3MB/s eta 0:00:01\r\u001b[K     |██████████████████████████▊     | 655kB 14.3MB/s eta 0:00:01\r\u001b[K     |███████████████████████████▏    | 665kB 14.3MB/s eta 0:00:01\r\u001b[K     |███████████████████████████▌    | 675kB 14.3MB/s eta 0:00:01\r\u001b[K     |████████████████████████████    | 686kB 14.3MB/s eta 0:00:01\r\u001b[K     |████████████████████████████▍   | 696kB 14.3MB/s eta 0:00:01\r\u001b[K     |████████████████████████████▉   | 706kB 14.3MB/s eta 0:00:01\r\u001b[K     |█████████████████████████████▏  | 716kB 14.3MB/s eta 0:00:01\r\u001b[K     |█████████████████████████████▋  | 727kB 14.3MB/s eta 0:00:01\r\u001b[K     |██████████████████████████████  | 737kB 14.3MB/s eta 0:00:01\r\u001b[K     |██████████████████████████████▌ | 747kB 14.3MB/s eta 0:00:01\r\u001b[K     |██████████████████████████████▉ | 757kB 14.3MB/s eta 0:00:01\r\u001b[K     |███████████████████████████████▎| 768kB 14.3MB/s eta 0:00:01\r\u001b[K     |███████████████████████████████▊| 778kB 14.3MB/s eta 0:00:01\r\u001b[K     |████████████████████████████████| 788kB 14.3MB/s \n",
            "\u001b[?25h\u001b[?25l\r\u001b[K     |█                               | 10kB 24.1MB/s eta 0:00:01\r\u001b[K     |█▉                              | 20kB 29.8MB/s eta 0:00:01\r\u001b[K     |██▊                             | 30kB 35.5MB/s eta 0:00:01\r\u001b[K     |███▋                            | 40kB 39.1MB/s eta 0:00:01\r\u001b[K     |████▌                           | 51kB 41.6MB/s eta 0:00:01\r\u001b[K     |█████▍                          | 61kB 43.7MB/s eta 0:00:01\r\u001b[K     |██████▎                         | 71kB 45.5MB/s eta 0:00:01\r\u001b[K     |███████▏                        | 81kB 44.3MB/s eta 0:00:01\r\u001b[K     |████████                        | 92kB 45.2MB/s eta 0:00:01\r\u001b[K     |█████████                       | 102kB 45.4MB/s eta 0:00:01\r\u001b[K     |█████████▉                      | 112kB 45.4MB/s eta 0:00:01\r\u001b[K     |██████████▊                     | 122kB 45.4MB/s eta 0:00:01\r\u001b[K     |███████████▋                    | 133kB 45.4MB/s eta 0:00:01\r\u001b[K     |████████████▌                   | 143kB 45.4MB/s eta 0:00:01\r\u001b[K     |█████████████▍                  | 153kB 45.4MB/s eta 0:00:01\r\u001b[K     |██████████████▎                 | 163kB 45.4MB/s eta 0:00:01\r\u001b[K     |███████████████▏                | 174kB 45.4MB/s eta 0:00:01\r\u001b[K     |████████████████                | 184kB 45.4MB/s eta 0:00:01\r\u001b[K     |█████████████████               | 194kB 45.4MB/s eta 0:00:01\r\u001b[K     |█████████████████▉              | 204kB 45.4MB/s eta 0:00:01\r\u001b[K     |██████████████████▊             | 215kB 45.4MB/s eta 0:00:01\r\u001b[K     |███████████████████▋            | 225kB 45.4MB/s eta 0:00:01\r\u001b[K     |████████████████████▌           | 235kB 45.4MB/s eta 0:00:01\r\u001b[K     |█████████████████████▍          | 245kB 45.4MB/s eta 0:00:01\r\u001b[K     |██████████████████████▎         | 256kB 45.4MB/s eta 0:00:01\r\u001b[K     |███████████████████████▏        | 266kB 45.4MB/s eta 0:00:01\r\u001b[K     |████████████████████████        | 276kB 45.4MB/s eta 0:00:01\r\u001b[K     |█████████████████████████       | 286kB 45.4MB/s eta 0:00:01\r\u001b[K     |█████████████████████████▉      | 296kB 45.4MB/s eta 0:00:01\r\u001b[K     |██████████████████████████▊     | 307kB 45.4MB/s eta 0:00:01\r\u001b[K     |███████████████████████████▋    | 317kB 45.4MB/s eta 0:00:01\r\u001b[K     |████████████████████████████▌   | 327kB 45.4MB/s eta 0:00:01\r\u001b[K     |█████████████████████████████▍  | 337kB 45.4MB/s eta 0:00:01\r\u001b[K     |██████████████████████████████▎ | 348kB 45.4MB/s eta 0:00:01\r\u001b[K     |███████████████████████████████▏| 358kB 45.4MB/s eta 0:00:01\r\u001b[K     |████████████████████████████████| 368kB 45.4MB/s \n",
            "\u001b[31mERROR: jupyter-console 5.2.0 has requirement prompt-toolkit<2.0.0,>=1.0.0, but you'll have prompt-toolkit 3.0.18 which is incompatible.\u001b[0m\n",
            "\u001b[31mERROR: google-colab 1.0.0 has requirement ipython~=5.5.0, but you'll have ipython 7.22.0 which is incompatible.\u001b[0m\n",
            "\u001b[K     |████████████████████████████████| 122kB 17.8MB/s \n",
            "\u001b[31mERROR: jupyter-console 5.2.0 has requirement prompt-toolkit<2.0.0,>=1.0.0, but you'll have prompt-toolkit 3.0.18 which is incompatible.\u001b[0m\n",
            "\u001b[31mERROR: google-colab 1.0.0 has requirement ipykernel~=4.10, but you'll have ipykernel 5.5.3 which is incompatible.\u001b[0m\n",
            "\u001b[31mERROR: google-colab 1.0.0 has requirement ipython~=5.5.0, but you'll have ipython 7.22.0 which is incompatible.\u001b[0m\n",
            "\u001b[?25h"
          ],
          "name": "stdout"
        }
      ]
    },
    {
      "cell_type": "code",
      "metadata": {
        "id": "kg-F7mu8sUZj",
        "colab": {
          "base_uri": "https://localhost:8080/"
        },
        "outputId": "92e0b7f1-060e-44df-c211-805928ac6aa6"
      },
      "source": [
        "!pip install streamlit --quiet\n",
        "!pip install pyngrok==4.1.1 --quiet\n",
        "from pyngrok import ngrok"
      ],
      "execution_count": null,
      "outputs": [
        {
          "output_type": "stream",
          "text": [
            "\u001b[K     |████████████████████████████████| 8.2MB 13.9MB/s \n",
            "\u001b[K     |████████████████████████████████| 4.2MB 49.1MB/s \n",
            "\u001b[K     |████████████████████████████████| 81kB 9.3MB/s \n",
            "\u001b[K     |████████████████████████████████| 112kB 47.5MB/s \n",
            "\u001b[K     |████████████████████████████████| 163kB 49.3MB/s \n",
            "\u001b[K     |████████████████████████████████| 71kB 7.9MB/s \n",
            "\u001b[?25h  Building wheel for blinker (setup.py) ... \u001b[?25l\u001b[?25hdone\n",
            "  Building wheel for pyngrok (setup.py) ... \u001b[?25l\u001b[?25hdone\n"
          ],
          "name": "stdout"
        }
      ]
    },
    {
      "cell_type": "code",
      "metadata": {
        "id": "ZyESFRmcsOmi",
        "colab": {
          "base_uri": "https://localhost:8080/"
        },
        "outputId": "b19e7622-8d4d-4f18-81a3-e9806c87708f"
      },
      "source": [
        "%%writefile app.py\n",
        "import joblib\n",
        "import streamlit as st\n",
        "model = joblib.load('sentiment_analysis')\n",
        "st.title('Sentiment Classifier')\n",
        "ip = st.text_input('Enter your message : ')\n",
        "op = model.predict([ip])\n",
        "if st.button('Predict'):\n",
        "  st.title(op[0])"
      ],
      "execution_count": null,
      "outputs": [
        {
          "output_type": "stream",
          "text": [
            "Writing app.py\n"
          ],
          "name": "stdout"
        }
      ]
    },
    {
      "cell_type": "code",
      "metadata": {
        "id": "7f_1d_nnsinS",
        "colab": {
          "base_uri": "https://localhost:8080/",
          "height": 52
        },
        "outputId": "d248ec46-b575-4b9e-ec69-170e180b7ec4"
      },
      "source": [
        "!nohup streamlit run app.py &\n",
        "url=ngrok.connect(port='8501')\n",
        "url"
      ],
      "execution_count": null,
      "outputs": [
        {
          "output_type": "stream",
          "text": [
            "nohup: appending output to 'nohup.out'\n"
          ],
          "name": "stdout"
        },
        {
          "output_type": "execute_result",
          "data": {
            "application/vnd.google.colaboratory.intrinsic+json": {
              "type": "string"
            },
            "text/plain": [
              "'http://80fbbd574dca.ngrok.io'"
            ]
          },
          "metadata": {
            "tags": []
          },
          "execution_count": 23
        }
      ]
    },
    {
      "cell_type": "markdown",
      "metadata": {
        "id": "CuM7pLJI9Rh-"
      },
      "source": [
        "## **Deployment on Heroku**\n",
        "\n",
        "*   Link : https://sentiment-analysis-ankita.herokuapp.com/\n",
        "\n"
      ]
    }
  ]
}